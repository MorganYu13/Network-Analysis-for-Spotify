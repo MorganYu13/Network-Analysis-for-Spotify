{
  "nbformat": 4,
  "nbformat_minor": 0,
  "metadata": {
    "colab": {
      "name": "NAM_Project_copy1.ipynb",
      "private_outputs": true,
      "provenance": [],
      "collapsed_sections": []
    },
    "kernelspec": {
      "name": "python3",
      "display_name": "Python 3"
    },
    "language_info": {
      "name": "python"
    }
  },
  "cells": [
    {
      "cell_type": "code",
      "execution_count": null,
      "metadata": {
        "id": "UsuOjTKbcB95"
      },
      "outputs": [],
      "source": [
        "import pandas as pd\n",
        "import numpy as np"
      ]
    },
    {
      "cell_type": "code",
      "source": [
        "url = '/content/data.csv'\n",
        "df = pd.read_csv(url)\n",
        "df = df.sample(100)\n",
        "df\n",
        "# Dataset is now stored in a Pandas Dataframe"
      ],
      "metadata": {
        "id": "WZhG6IiseJ68"
      },
      "execution_count": null,
      "outputs": []
    },
    {
      "cell_type": "code",
      "source": [
        "df.shape"
      ],
      "metadata": {
        "id": "5RpXkdG4fcfI"
      },
      "execution_count": null,
      "outputs": []
    },
    {
      "cell_type": "code",
      "source": [
        "df.columns"
      ],
      "metadata": {
        "id": "k14RirJKgbhG"
      },
      "execution_count": null,
      "outputs": []
    },
    {
      "cell_type": "code",
      "source": [
        "vector_df = df.loc[:, ['valence', 'year', 'acousticness', 'danceability', 'energy', 'instrumentalness', 'key', 'liveness', 'loudness', 'popularity', 'speechiness', 'tempo']]\n",
        "vector_df"
      ],
      "metadata": {
        "id": "vWV771CXg52T"
      },
      "execution_count": null,
      "outputs": []
    },
    {
      "cell_type": "code",
      "source": [
        "from sklearn import preprocessing\n",
        "min_max_scaler = preprocessing.MinMaxScaler()\n",
        "for i in vector_df.columns:\n",
        "  sr = pd.DataFrame(vector_df[i])\n",
        "  vector_df[i] = min_max_scaler.fit_transform(sr)\n",
        "vector_df"
      ],
      "metadata": {
        "id": "_7_mwBiQdVKE"
      },
      "execution_count": null,
      "outputs": []
    },
    {
      "cell_type": "code",
      "source": [
        "vector_df.shape[0]"
      ],
      "metadata": {
        "id": "Lbe6vQss-Xkw"
      },
      "execution_count": null,
      "outputs": []
    },
    {
      "cell_type": "code",
      "source": [
        "result = []\n",
        "\n",
        "from scipy import spatial\n",
        "for i in range(0,vector_df.shape[0]):\n",
        "  a = list(vector_df.iloc[i])\n",
        "  l = []\n",
        "  for j in range(0,vector_df.shape[0]): \n",
        "    b = list(vector_df.iloc[j])\n",
        "    l.append(1 - spatial.distance.cosine(a, b))\n",
        "  result.append(l)\n",
        "\n",
        "sim = pd.DataFrame(np.array(result))\n",
        "sim.values[[np.arange(df.shape[0])]*2] = 0\n",
        "\n",
        "sim"
      ],
      "metadata": {
        "id": "ySVx47PHAITF"
      },
      "execution_count": null,
      "outputs": []
    },
    {
      "cell_type": "markdown",
      "source": [
        "#Weighted Graph\n",
        "not done yet"
      ],
      "metadata": {
        "id": "j1xsLyr-1n6_"
      }
    },
    {
      "cell_type": "code",
      "source": [
        "source = range(0,sim.shape[0])\n",
        "target = range(0,sim.shape[0])\n",
        "\n",
        "for i in range(0,sim.shape[0]):\n",
        "  list_i = [i]*sim.shape[0]\n",
        "  list_j = list(range(0,sim.shape[0]))\n",
        "  weight = list(sim.iloc[i])\n",
        "  \n",
        "\n",
        "print(list_i, list_j, weight)"
      ],
      "metadata": {
        "id": "KtjTDOORkQkc"
      },
      "execution_count": null,
      "outputs": []
    },
    {
      "cell_type": "markdown",
      "source": [
        "#Adjacency Matrix, Threshold and Filtering"
      ],
      "metadata": {
        "id": "Frgs8Br31vts"
      }
    },
    {
      "cell_type": "code",
      "source": [
        "avg = (sim.sum().sum())/(sim.shape[0]*sim.shape[0])\n",
        "print(\"Average of similarties: \", avg)\n",
        "adj_mat = np.where(sim <= avg, 0, 1)\n",
        "adj_mat"
      ],
      "metadata": {
        "id": "zGsUyv_pyo8t"
      },
      "execution_count": null,
      "outputs": []
    },
    {
      "cell_type": "code",
      "source": [
        "import networkx as nx\n",
        "import matplotlib.pyplot as plt \n",
        "G = nx.Graph(adj_mat)\n",
        "fig = plt.figure(figsize=(40, 40)) \n",
        "nx.draw(G, node_size=30, with_labels=True) \n",
        "plt.axis('equal') \n",
        "plt.show()"
      ],
      "metadata": {
        "id": "Ym3Lx7Aj0aA3"
      },
      "execution_count": null,
      "outputs": []
    },
    {
      "cell_type": "code",
      "source": [
        ""
      ],
      "metadata": {
        "id": "IaGOnok90gqQ"
      },
      "execution_count": null,
      "outputs": []
    }
  ]
}